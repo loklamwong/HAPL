{
  "nbformat": 4,
  "nbformat_minor": 0,
  "metadata": {
    "colab": {
      "provenance": []
    },
    "kernelspec": {
      "name": "python3",
      "display_name": "Python 3"
    },
    "language_info": {
      "name": "python"
    }
  },
  "cells": [
    {
      "cell_type": "code",
      "execution_count": 25,
      "metadata": {
        "colab": {
          "base_uri": "https://localhost:8080/"
        },
        "id": "HhqY08VK4xIx",
        "outputId": "27509fad-dc74-4bdf-a5ac-87f36883d3b8"
      },
      "outputs": [
        {
          "output_type": "stream",
          "name": "stdout",
          "text": [
            "I'm a student\n"
          ]
        }
      ],
      "source": [
        "print('I\\'m a student')"
      ]
    },
    {
      "cell_type": "code",
      "source": [
        "print('A(x1,y1),B(x2,y2)')\n",
        "a= float(input('x1='))\n",
        "b= float(input('y1='))\n",
        "c= float(input('x2='))\n",
        "d= float(input('y2='))\n",
        "x=(((a-c)**2 + (b-d) **2)**(1/2))\n",
        "print (x)\n"
      ],
      "metadata": {
        "colab": {
          "base_uri": "https://localhost:8080/"
        },
        "id": "pXxpSu0U5jWc",
        "outputId": "7530fb4b-b486-4954-d708-b028afd5f6a1"
      },
      "execution_count": 26,
      "outputs": [
        {
          "output_type": "stream",
          "name": "stdout",
          "text": [
            "A(x1,y1),B(x2,y2)\n",
            "x1=2\n",
            "y1=0\n",
            "x2=4\n",
            "y2=0\n",
            "2.0\n"
          ]
        }
      ]
    },
    {
      "cell_type": "code",
      "source": [
        "print('BMI Calculator')\n",
        "a= float(input('Height(cm):'))\n",
        "b= float(input('weight(kg):'))\n",
        "a/=100\n",
        "a*=a\n",
        "b/=a\n",
        "print(b)"
      ],
      "metadata": {
        "colab": {
          "base_uri": "https://localhost:8080/"
        },
        "id": "5fwXwQ0HAc-1",
        "outputId": "c6a36712-3dfc-4377-8cff-91ca767af00c"
      },
      "execution_count": null,
      "outputs": [
        {
          "output_type": "stream",
          "name": "stdout",
          "text": [
            "BMI Calculator\n",
            "Height(cm):160\n",
            "weight(kg):50\n",
            "19.531249999999996\n"
          ]
        }
      ]
    }
  ]
}