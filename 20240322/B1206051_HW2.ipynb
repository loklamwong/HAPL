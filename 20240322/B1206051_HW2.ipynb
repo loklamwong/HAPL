{
  "nbformat": 4,
  "nbformat_minor": 0,
  "metadata": {
    "colab": {
      "provenance": []
    },
    "kernelspec": {
      "name": "python3",
      "display_name": "Python 3"
    },
    "language_info": {
      "name": "python"
    }
  },
  "cells": [
    {
      "cell_type": "code",
      "execution_count": null,
      "metadata": {
        "colab": {
          "base_uri": "https://localhost:8080/"
        },
        "id": "Ap_u6VWTsj-6",
        "outputId": "1b9e18f1-7b33-4bed-901a-c69595c2b513"
      },
      "outputs": [
        {
          "output_type": "stream",
          "name": "stdout",
          "text": [
            "A\n",
            "['K', 'H', 'U']\n"
          ]
        }
      ],
      "source": [
        "a='C,B,A'\n",
        "b=['F','G','H']\n",
        "a=a.split(',')\n",
        "a.extend(b)\n",
        "a[0]='K'\n",
        "c=a.pop(2)\n",
        "print(c)\n",
        "del a[1:4]\n",
        "a.append('U')\n",
        "print(a)"
      ]
    },
    {
      "cell_type": "code",
      "source": [
        "a=input('Please enter an eight-digit number:')\n",
        "a=list(a)\n",
        "a=a.pop(4)\n",
        "print('5th digit:',a)"
      ],
      "metadata": {
        "colab": {
          "base_uri": "https://localhost:8080/"
        },
        "id": "oblz9RkDyNVd",
        "outputId": "e294bbf7-b9d1-4746-8de8-e1caaa868425"
      },
      "execution_count": null,
      "outputs": [
        {
          "output_type": "stream",
          "name": "stdout",
          "text": [
            "Please enter an eight-digit number:12345678\n",
            "5th digit: 5\n"
          ]
        }
      ]
    },
    {
      "cell_type": "code",
      "source": [
        "a='My ID is B1206051'\n",
        "print(a)\n",
        "a=a.split()\n",
        "print('This string contains',len(a),'words')\n",
        "print('This ID contains',len(a[3]),'elements')"
      ],
      "metadata": {
        "colab": {
          "base_uri": "https://localhost:8080/"
        },
        "id": "3YXve7Hj2Ua1",
        "outputId": "6749be7e-fc5e-4234-baab-4cc3acfcbc89"
      },
      "execution_count": null,
      "outputs": [
        {
          "output_type": "stream",
          "name": "stdout",
          "text": [
            "My ID is B1206051\n",
            "This string contains 4 words.\n",
            "This ID contains 8 elements.\n"
          ]
        }
      ]
    },
    {
      "cell_type": "code",
      "source": [
        "a=\"I'm a stduent\"\n",
        "a=a.split()\n",
        "b=a[0].split(\"'\")\n",
        "print(b[1])"
      ],
      "metadata": {
        "colab": {
          "base_uri": "https://localhost:8080/"
        },
        "id": "Zf7auJvU3yP2",
        "outputId": "6dd2b401-b464-4471-be72-85826e11c17a"
      },
      "execution_count": null,
      "outputs": [
        {
          "output_type": "stream",
          "name": "stdout",
          "text": [
            "m\n"
          ]
        }
      ]
    }
  ]
}