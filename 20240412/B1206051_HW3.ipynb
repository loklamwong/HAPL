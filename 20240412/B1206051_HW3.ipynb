{
  "nbformat": 4,
  "nbformat_minor": 0,
  "metadata": {
    "colab": {
      "provenance": []
    },
    "kernelspec": {
      "name": "python3",
      "display_name": "Python 3"
    },
    "language_info": {
      "name": "python"
    }
  },
  "cells": [
    {
      "cell_type": "code",
      "execution_count": 8,
      "metadata": {
        "colab": {
          "base_uri": "https://localhost:8080/"
        },
        "id": "YIg8wFQm5LWA",
        "outputId": "9f7fefc3-2917-4b41-e77a-0470e6f96c7b"
      },
      "outputs": [
        {
          "output_type": "stream",
          "name": "stdout",
          "text": [
            "Please enter a year:1800\n",
            "平年\n"
          ]
        }
      ],
      "source": [
        "year = int( input ('Please enter a year:'))\n",
        "if year>1582:\n",
        "  if year%400==0 or (year%4==0 and year%100!=0):\n",
        "    print ('閏年')\n",
        "  else:\n",
        "    print ('平年')\n",
        "else:\n",
        "  if year%4==0:\n",
        "    print ('閏年')\n",
        "  else:\n",
        "    print ('平年')\n",
        ""
      ]
    },
    {
      "cell_type": "code",
      "source": [
        "year = int( input ('Please enter a year:'))\n",
        "if year>1582:\n",
        "  if year%400==0 or (year%4==0 and year%100!=0):\n",
        "    print ('閏年')\n",
        "  else:\n",
        "    print ('平年')\n",
        "else:\n",
        "  if year%4==0:\n",
        "    print ('閏年')\n",
        "  else:\n",
        "    print ('平年')\n",
        ""
      ],
      "metadata": {
        "colab": {
          "base_uri": "https://localhost:8080/"
        },
        "id": "6a0etmyl-Q82",
        "outputId": "5fb47d6f-557e-4a63-9500-99eba9301cc0"
      },
      "execution_count": 9,
      "outputs": [
        {
          "output_type": "stream",
          "name": "stdout",
          "text": [
            "Please enter a year:1400\n",
            "閏年\n"
          ]
        }
      ]
    }
  ]
}