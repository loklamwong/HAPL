{
  "nbformat": 4,
  "nbformat_minor": 0,
  "metadata": {
    "colab": {
      "provenance": []
    },
    "kernelspec": {
      "name": "python3",
      "display_name": "Python 3"
    },
    "language_info": {
      "name": "python"
    }
  },
  "cells": [
    {
      "cell_type": "code",
      "execution_count": 14,
      "metadata": {
        "colab": {
          "base_uri": "https://localhost:8080/"
        },
        "id": "ywvU344iwcVw",
        "outputId": "c6078060-e412-4b63-bdd3-5bafd248b38c"
      },
      "outputs": [
        {
          "output_type": "stream",
          "name": "stdout",
          "text": [
            "Please enter height (in cm):156\n",
            "Please enter weight (in kg):56\n",
            "BMI: 23.011176857330703\n",
            "體位:適中\n"
          ]
        }
      ],
      "source": [
        "height= float(input('Please enter height (in cm):'))\n",
        "weight= float(input('Please enter weight (in kg):'))\n",
        "BMI=weight/((height/100)*(height/100))\n",
        "print('BMI:',BMI)\n",
        "if BMI<18.5:\n",
        "  print('體位:過輕')\n",
        "elif BMI<24:\n",
        "  print('體位:適中')\n",
        "elif BMI<27:\n",
        "  print('體位:過重')\n",
        "else:\n",
        "  print('體位:肥胖')"
      ]
    },
    {
      "cell_type": "code",
      "source": [
        "a= float(input('請輸入第一個數字:'))\n",
        "b= input('請輸入運算符號:')\n",
        "c= float(input('請輸入第二個數字:'))\n",
        "if b=='+':\n",
        "  print (a+c)\n",
        "elif b=='-':\n",
        "  print (a-c)\n",
        "elif b=='*':\n",
        "  print (a*c)\n",
        "elif b=='/':\n",
        "  print (a/c)"
      ],
      "metadata": {
        "colab": {
          "base_uri": "https://localhost:8080/"
        },
        "id": "jb5GCYDC2elt",
        "outputId": "f7835c52-692b-4300-945a-1f8907f67c9b"
      },
      "execution_count": 25,
      "outputs": [
        {
          "output_type": "stream",
          "name": "stdout",
          "text": [
            "請輸入第一個數字:1\n",
            "請輸入運算符號:/\n",
            "請輸入第二個數字:2\n",
            "0.5\n"
          ]
        }
      ]
    }
  ]
}