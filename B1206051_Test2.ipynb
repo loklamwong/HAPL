{
  "nbformat": 4,
  "nbformat_minor": 0,
  "metadata": {
    "colab": {
      "provenance": []
    },
    "kernelspec": {
      "name": "python3",
      "display_name": "Python 3"
    },
    "language_info": {
      "name": "python"
    }
  },
  "cells": [
    {
      "cell_type": "code",
      "execution_count": null,
      "metadata": {
        "colab": {
          "base_uri": "https://localhost:8080/"
        },
        "id": "V_hOiT-10Vp6",
        "outputId": "b0e6739f-38ce-4e9b-f0ac-0d03a885c781"
      },
      "outputs": [
        {
          "output_type": "stream",
          "name": "stdout",
          "text": [
            "495\n"
          ]
        }
      ],
      "source": [
        "x = 2; y = 1;\n",
        "\n",
        "a = 2 * x + y\n",
        "b = 100 - y\n",
        "\n",
        "Ans = a * b\n",
        "\n",
        "print(Ans)"
      ]
    },
    {
      "cell_type": "code",
      "source": [
        "y = 4\n",
        "\n",
        "a = 2 * y + 1\n",
        "\n",
        "Ans = 100 / a\n",
        "\n",
        "print(Ans)"
      ],
      "metadata": {
        "colab": {
          "base_uri": "https://localhost:8080/"
        },
        "id": "LVrzyJYy1HQv",
        "outputId": "95612940-8a2e-4956-f784-776eb41facd2"
      },
      "execution_count": null,
      "outputs": [
        {
          "output_type": "stream",
          "name": "stdout",
          "text": [
            "11.11111111111111\n"
          ]
        }
      ]
    }
  ]
}